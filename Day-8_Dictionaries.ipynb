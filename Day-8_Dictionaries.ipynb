{
 "cells": [
  {
   "cell_type": "code",
   "execution_count": 2,
   "metadata": {},
   "outputs": [
    {
     "name": "stdout",
     "output_type": "stream",
     "text": [
      "{'color': 'red', 'points': '5'}\n"
     ]
    }
   ],
   "source": [
    "#How to modify dictionaries\n",
    "\n",
    "alien ={'color':'red','points':'5'}\n",
    "print(alien)"
   ]
  },
  {
   "cell_type": "code",
   "execution_count": 3,
   "metadata": {},
   "outputs": [
    {
     "name": "stdout",
     "output_type": "stream",
     "text": [
      "{'color': 'Pink', 'points': '5'}\n"
     ]
    }
   ],
   "source": [
    "#req: modify the color  of the alien\n",
    "\n",
    "alien['color']='Pink'\n",
    "print(alien)"
   ]
  },
  {
   "cell_type": "code",
   "execution_count": 4,
   "metadata": {},
   "outputs": [
    {
     "name": "stdout",
     "output_type": "stream",
     "text": [
      "{'color': 'Pink', 'points': '10'}\n"
     ]
    }
   ],
   "source": [
    "#req: modify the color  of the alien\n",
    "alien['points']='10'\n",
    "print(alien)"
   ]
  },
  {
   "cell_type": "code",
   "execution_count": 8,
   "metadata": {},
   "outputs": [
    {
     "name": "stdout",
     "output_type": "stream",
     "text": [
      "The alien color is now changed to Pink\n"
     ]
    }
   ],
   "source": [
    "# utilising f strings\n",
    "#req: i want to print the alien color has been changed\n",
    "\n",
    "print(f\"The alien color is now changed to {alien['color']}\")\n"
   ]
  },
  {
   "cell_type": "code",
   "execution_count": 12,
   "metadata": {},
   "outputs": [
    {
     "name": "stdout",
     "output_type": "stream",
     "text": [
      "you will be getting 10 for every kill of Pink alien!\n"
     ]
    }
   ],
   "source": [
    "#req: i want to print the alien color has been changed\n",
    "\n",
    "print(f\"you will be getting {alien['points']} for every kill of {alien['color']} alien!\")"
   ]
  },
  {
   "cell_type": "code",
   "execution_count": 15,
   "metadata": {},
   "outputs": [
    {
     "name": "stdout",
     "output_type": "stream",
     "text": [
      "{'pradeep': 'AWS', 'chandana': 'machine Learning', 'vincy': 'data science', 'lakshmi': 'Devops', 'sheela': 'orchetrator'}\n"
     ]
    }
   ],
   "source": [
    "# different approach of declaring a dictionary\n",
    "\n",
    "fav_topics={\n",
    "    'pradeep':'AWS',\n",
    "    'chandana':'machine Learning',\n",
    "    'vincy':'data science',\n",
    "    'lakshmi':'Devops',\n",
    "    'sheela':'orchetrator'\n",
    "    }\n",
    "print(fav_topics)"
   ]
  },
  {
   "cell_type": "code",
   "execution_count": 18,
   "metadata": {},
   "outputs": [
    {
     "name": "stdout",
     "output_type": "stream",
     "text": [
      "Chandana's favorite Domain is Machine Learning\n"
     ]
    }
   ],
   "source": [
    "topics =fav_topics['chandana'].title()\n",
    "print(f\"Chandana's favorite Domain is {topics}\")"
   ]
  },
  {
   "cell_type": "code",
   "execution_count": null,
   "metadata": {},
   "outputs": [],
   "source": []
  },
  {
   "cell_type": "code",
   "execution_count": null,
   "metadata": {},
   "outputs": [],
   "source": []
  },
  {
   "cell_type": "code",
   "execution_count": null,
   "metadata": {},
   "outputs": [],
   "source": []
  },
  {
   "cell_type": "code",
   "execution_count": null,
   "metadata": {},
   "outputs": [],
   "source": []
  }
 ],
 "metadata": {
  "kernelspec": {
   "display_name": "Python 3",
   "language": "python",
   "name": "python3"
  },
  "language_info": {
   "codemirror_mode": {
    "name": "ipython",
    "version": 3
   },
   "file_extension": ".py",
   "mimetype": "text/x-python",
   "name": "python",
   "nbconvert_exporter": "python",
   "pygments_lexer": "ipython3",
   "version": "3.7.4"
  }
 },
 "nbformat": 4,
 "nbformat_minor": 2
}
