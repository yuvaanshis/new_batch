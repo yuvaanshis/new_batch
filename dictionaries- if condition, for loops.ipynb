{
 "cells": [
  {
   "cell_type": "code",
   "execution_count": 5,
   "metadata": {},
   "outputs": [],
   "source": [
    "# if condition in dictionaries:\n",
    "\n",
    "thisdict = {\n",
    "    \"brand\":\"iphone\",\n",
    "    \"model\":\"iphone10\",\n",
    "    \"year\": 2018\n",
    "}\n",
    "\n",
    "if \"dict\" in thisdict:\n",
    "    print(\"yes , 'Model' key is present in 'thisdict' dictionary which we have declared\")"
   ]
  },
  {
   "cell_type": "code",
   "execution_count": 6,
   "metadata": {},
   "outputs": [
    {
     "name": "stdout",
     "output_type": "stream",
     "text": [
      "brand\n",
      "model\n",
      "year\n"
     ]
    }
   ],
   "source": [
    "# for loop in dictionaries:\n",
    "\n",
    "thisdict = {\n",
    "    \"brand\":\"iphone\",\n",
    "    \"model\":\"iphone10\",\n",
    "    \"year\": 2018\n",
    "}\n",
    "\n",
    "thisdict[\"year\"]=2018\n",
    "for x in thisdict:\n",
    "    print(x)\n"
   ]
  },
  {
   "cell_type": "code",
   "execution_count": 7,
   "metadata": {},
   "outputs": [
    {
     "name": "stdout",
     "output_type": "stream",
     "text": [
      "{'iphone': 2007, 'iphone3g': 2009, 'iphone 4': 2010, 'iphone 4s': 2011, 'iphone 5': 2012}\n"
     ]
    }
   ],
   "source": [
    "# \n",
    "\n",
    "released= {\n",
    "    \"iphone\" : 2007,\n",
    "    \"iphone3g\":2009,\n",
    "    \"iphone 4\": 2010,\n",
    "    \"iphone 4s\": 2011,\n",
    "    \"iphone 5\":2012\n",
    "}\n",
    "\n",
    "print(released)"
   ]
  },
  {
   "cell_type": "code",
   "execution_count": 10,
   "metadata": {},
   "outputs": [
    {
     "name": "stdout",
     "output_type": "stream",
     "text": [
      "dict_keys(['iphone', 'iphone3g', 'iphone 4', 'iphone 4s', 'iphone 5'])\n"
     ]
    }
   ],
   "source": [
    "# i wanted to get only te keys from the dictionaries\n",
    "\n",
    "appleiphone = released.keys()\n",
    "print(appleiphone)\n",
    "\n",
    "\n",
    "# Keys: it will give that the keys present in dictionary\n"
   ]
  },
  {
   "cell_type": "code",
   "execution_count": 11,
   "metadata": {},
   "outputs": [
    {
     "name": "stdout",
     "output_type": "stream",
     "text": [
      "Values in dictionary:,\n",
      "2007\n",
      "2009\n",
      "2010\n",
      "2011\n",
      "2012\n"
     ]
    }
   ],
   "source": [
    "# i wanted to print only values in the dictions\n",
    "\n",
    "print(\"Values in dictionary:,\")\n",
    "for year in released:\n",
    "    releases=released[year]\n",
    "    print(releases)\n",
    "    \n"
   ]
  },
  {
   "cell_type": "code",
   "execution_count": 27,
   "metadata": {},
   "outputs": [
    {
     "name": "stdout",
     "output_type": "stream",
     "text": [
      "{'iphone': 2007, 'iphone3g': 2009, 'iphone 4': 2010, 'iphone 4s': 2011, 'iphone 5': 2012}\n",
      "2007\n",
      "2009\n",
      "2010\n",
      "2011\n",
      "2012\n"
     ]
    }
   ],
   "source": [
    "# values: it returns the values present in dictionary\n",
    "released= {\n",
    "    \"iphone\" : 2007,\n",
    "    \"iphone3g\":2009,\n",
    "    \"iphone 4\": 2010,\n",
    "    \"iphone 4s\": 2011,\n",
    "    \"iphone 5\":2012\n",
    "}\n",
    "\n",
    "print(released)\n",
    "\n",
    "for v in released.values():\n",
    "    print(v)\n"
   ]
  },
  {
   "cell_type": "code",
   "execution_count": 26,
   "metadata": {},
   "outputs": [
    {
     "name": "stdout",
     "output_type": "stream",
     "text": [
      "2007\n",
      "2009\n",
      "2010\n",
      "2011\n",
      "2012\n"
     ]
    }
   ],
   "source": [
    "or v in released.values():\n",
    "    print(v)f"
   ]
  },
  {
   "cell_type": "code",
   "execution_count": 12,
   "metadata": {},
   "outputs": [
    {
     "name": "stdout",
     "output_type": "stream",
     "text": [
      "iphone = 2007\n",
      "iphone3g = 2009\n",
      "iphone 4 = 2010\n",
      "iphone 4s = 2011\n",
      "iphone 5 = 2012\n"
     ]
    }
   ],
   "source": [
    "# i wanted to print the key value pair in the dictionary:\n",
    "\n",
    "for key,val in released.items():\n",
    "    print(key, '=',val)\n",
    "    \n",
    "# utems: it will give the key pair values as an item\n",
    "# items :\n",
    "\n",
    "\n",
    "it returnis the tuples represents the key-values pairs\n",
    "\n",
    "[k,v]"
   ]
  },
  {
   "cell_type": "code",
   "execution_count": null,
   "metadata": {},
   "outputs": [],
   "source": [
    "# delete / remove the objects from the dictionaries:\n",
    "\n",
    "pop in lists\n",
    "\n",
    "pop--> it removes the entry valuse associated with the specific key and returns the corresponding values.\n",
    "\n",
    "--> if the key is not available it will throw you error"
   ]
  },
  {
   "cell_type": "code",
   "execution_count": 16,
   "metadata": {},
   "outputs": [
    {
     "name": "stdout",
     "output_type": "stream",
     "text": [
      "{100: 'chinni', 200: 'bujji', 300: 'vincy'}\n"
     ]
    }
   ],
   "source": [
    "d= {100:\"chinni\",200:\"bujji\",300:\"vincy\"}\n",
    "print(d)"
   ]
  },
  {
   "cell_type": "code",
   "execution_count": null,
   "metadata": {},
   "outputs": [],
   "source": [
    "# in dictionaries duplicates are not allowed"
   ]
  },
  {
   "cell_type": "code",
   "execution_count": 17,
   "metadata": {},
   "outputs": [
    {
     "name": "stdout",
     "output_type": "stream",
     "text": [
      "bujji\n"
     ]
    }
   ],
   "source": [
    "print(d.pop(200))"
   ]
  },
  {
   "cell_type": "code",
   "execution_count": 18,
   "metadata": {},
   "outputs": [
    {
     "name": "stdout",
     "output_type": "stream",
     "text": [
      "{100: 'chinni', 300: 'vincy'}\n"
     ]
    }
   ],
   "source": [
    "print(d)"
   ]
  },
  {
   "cell_type": "code",
   "execution_count": 19,
   "metadata": {},
   "outputs": [
    {
     "ename": "KeyError",
     "evalue": "400",
     "output_type": "error",
     "traceback": [
      "\u001b[1;31m---------------------------------------------------------------------------\u001b[0m",
      "\u001b[1;31mKeyError\u001b[0m                                  Traceback (most recent call last)",
      "\u001b[1;32m<ipython-input-19-7028b17ada00>\u001b[0m in \u001b[0;36m<module>\u001b[1;34m\u001b[0m\n\u001b[1;32m----> 1\u001b[1;33m \u001b[0mprint\u001b[0m\u001b[1;33m(\u001b[0m\u001b[0md\u001b[0m\u001b[1;33m.\u001b[0m\u001b[0mpop\u001b[0m\u001b[1;33m(\u001b[0m\u001b[1;36m400\u001b[0m\u001b[1;33m)\u001b[0m\u001b[1;33m)\u001b[0m\u001b[1;33m\u001b[0m\u001b[1;33m\u001b[0m\u001b[0m\n\u001b[0m",
      "\u001b[1;31mKeyError\u001b[0m: 400"
     ]
    }
   ],
   "source": [
    "print(d.pop(400))"
   ]
  },
  {
   "cell_type": "code",
   "execution_count": 20,
   "metadata": {},
   "outputs": [
    {
     "name": "stdout",
     "output_type": "stream",
     "text": [
      "{100: 'chinni', 200: 'bujji', 300: 'vincy'}\n"
     ]
    }
   ],
   "source": [
    "# pop item\n",
    "\n",
    "d= {100:\"chinni\",200:\"bujji\",300:\"vincy\"}\n",
    "print(d)"
   ]
  },
  {
   "cell_type": "code",
   "execution_count": 21,
   "metadata": {},
   "outputs": [
    {
     "name": "stdout",
     "output_type": "stream",
     "text": [
      "(300, 'vincy')\n"
     ]
    }
   ],
   "source": [
    "print(d.popitem())"
   ]
  },
  {
   "cell_type": "code",
   "execution_count": 22,
   "metadata": {},
   "outputs": [
    {
     "name": "stdout",
     "output_type": "stream",
     "text": [
      "{100: 'chinni', 200: 'bujji'}\n"
     ]
    }
   ],
   "source": [
    "print(d)"
   ]
  },
  {
   "cell_type": "code",
   "execution_count": 23,
   "metadata": {},
   "outputs": [
    {
     "name": "stdout",
     "output_type": "stream",
     "text": [
      "(200, 'bujji')\n"
     ]
    }
   ],
   "source": [
    "print(d.popitem())"
   ]
  },
  {
   "cell_type": "code",
   "execution_count": 24,
   "metadata": {},
   "outputs": [
    {
     "name": "stdout",
     "output_type": "stream",
     "text": [
      "{100: 'chinni'}\n"
     ]
    }
   ],
   "source": [
    "print(d)"
   ]
  },
  {
   "cell_type": "code",
   "execution_count": null,
   "metadata": {},
   "outputs": [],
   "source": [
    "# what is the differnece between pop an dpop item in dictionary:\n",
    "\n",
    "pop --> remves the specific obkject from the dictionary\n",
    "popitem --> removes last item in the dictionary"
   ]
  },
  {
   "cell_type": "code",
   "execution_count": 31,
   "metadata": {},
   "outputs": [
    {
     "name": "stdout",
     "output_type": "stream",
     "text": [
      "{'a': 'apple', 'b': 'boy', 'c': 'cat', 'd': 'dog'}\n"
     ]
    }
   ],
   "source": [
    "# copy:  \n",
    "\n",
    "a = {'a':'apple','b':'boy','c':'cat','d':'dog'}\n",
    "print(a)"
   ]
  },
  {
   "cell_type": "code",
   "execution_count": 32,
   "metadata": {},
   "outputs": [
    {
     "name": "stdout",
     "output_type": "stream",
     "text": [
      "{'a': 'apple', 'b': 'boy', 'c': 'cat', 'd': 'dog'}\n"
     ]
    }
   ],
   "source": [
    "b=a.copy()\n",
    "print(b)"
   ]
  },
  {
   "cell_type": "code",
   "execution_count": null,
   "metadata": {},
   "outputs": [],
   "source": [
    "# input statemnets for dictionaries:\n",
    "\n",
    "d = eval(input(\"enter the dictionary\"))\n",
    "s = sum(d.values())\n",
    "print(\"sum=\",s)"
   ]
  },
  {
   "cell_type": "code",
   "execution_count": 1,
   "metadata": {},
   "outputs": [
    {
     "name": "stdout",
     "output_type": "stream",
     "text": [
      "{'one': 'Monday', 'two': 'Tuesday', 'three': 'Wednesday', 'four': 'Thursday', 'five': 'Friday', 'six': 'Saturday', 'seven': 'Sunday'}\n",
      "['one', 'two', 'three', 'four', 'five', 'six', 'seven']\n",
      "['Monday', 'Tuesday', 'Wednesday', 'Thursday', 'Friday', 'Saturday', 'Sunday']\n"
     ]
    }
   ],
   "source": [
    "day = { 'one' : 'Monday' , 'two' : 'Tuesday' , 'three' : 'Wednesday' , 'four' : 'Thursday' , 'five': 'Friday' , 'six' : 'Saturday' , 'seven': 'Sunday'}\n",
    "print(day)\n",
    "number = { 'one' : 1 , 'two' : 2 , 'three' : 3 , 'four' : 4 , 'five' : 5 , 'six' : 6 , 'seven' : 7}\n",
    "print(sorted(day , key=number.__getitem__))\n",
    "print([day[i] for i in sorted(day , key=number.__getitem__)])\n"
   ]
  },
  {
   "cell_type": "code",
   "execution_count": null,
   "metadata": {},
   "outputs": [],
   "source": []
  },
  {
   "cell_type": "code",
   "execution_count": null,
   "metadata": {},
   "outputs": [],
   "source": []
  },
  {
   "cell_type": "code",
   "execution_count": null,
   "metadata": {},
   "outputs": [],
   "source": []
  },
  {
   "cell_type": "code",
   "execution_count": null,
   "metadata": {},
   "outputs": [],
   "source": []
  }
 ],
 "metadata": {
  "kernelspec": {
   "display_name": "Python 3",
   "language": "python",
   "name": "python3"
  },
  "language_info": {
   "codemirror_mode": {
    "name": "ipython",
    "version": 3
   },
   "file_extension": ".py",
   "mimetype": "text/x-python",
   "name": "python",
   "nbconvert_exporter": "python",
   "pygments_lexer": "ipython3",
   "version": "3.8.3"
  }
 },
 "nbformat": 4,
 "nbformat_minor": 4
}
